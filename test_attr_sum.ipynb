{
 "cells": [
  {
   "cell_type": "code",
   "execution_count": 108,
   "metadata": {},
   "outputs": [],
   "source": [
    "from rdflib import Graph\n",
    "from pandas import DataFrame\n",
    "from rdflib.plugins.sparql.processor import SPARQLResult\n",
    "import yaml"
   ]
  },
  {
   "cell_type": "code",
   "execution_count": 109,
   "metadata": {},
   "outputs": [],
   "source": [
    "input_format = '.nt'\n",
    "output_format = '.csv'\n",
    "input_names = {'AIFB': 'aifb_stripped'}\n",
    "output_names = {'AIFB': 'aifb_attr_sum'}\n",
    "\n",
    "def make_graph_from_nt(input_data):\n",
    "    g = Graph()\n",
    "    data = open(input_data, 'rb')\n",
    "    g.parse(data, format = 'n3')\n",
    "    return g\n",
    "\n",
    "def get_query(type):\n",
    "    with open('helpers/SPARQL/attribute.yml') as file:\n",
    "        queries = yaml.load(file, Loader=yaml.FullLoader)\n",
    "        return queries[type]\n",
    "        \n",
    "def apply_query(graph, key):\n",
    "    \"\"\"\n",
    "    graph: rdflib object\n",
    "    key: str\n",
    "    \"\"\"\n",
    "    # allesandro's appendix:\n",
    "    # PREFIX rdf: <http ://www.w3. org/1999/02/22=rdf=syntax=ns#>\n",
    "    # found PREFIX rdfs: <http://www.w3.org/2000/01/rdf-schema#> (Campinas)\n",
    "    query = get_query(key)\n",
    "    result = graph.query(query)\n",
    "    return result\n",
    "\n",
    "def main_attr_sum(name):\n",
    "    filepath = f'../data/AIFB/{input_names[name]}{input_format}'\n",
    "    print(filepath)\n",
    "    graph = make_graph_from_nt(filepath)\n",
    "    sum_graph = apply_query(graph, 'summary')\n",
    "    return sum_graph"
   ]
  },
  {
   "cell_type": "code",
   "execution_count": 110,
   "metadata": {},
   "outputs": [
    {
     "name": "stdout",
     "output_type": "stream",
     "text": [
      "../data/AIFB/aifb_stripped.nt\n"
     ]
    }
   ],
   "source": [
    "sum_graph = main_attr_sum('AIFB')"
   ]
  },
  {
   "cell_type": "code",
   "execution_count": 95,
   "metadata": {},
   "outputs": [],
   "source": [
    "def sparql_results_to_df(results: SPARQLResult) -> DataFrame:\n",
    "    return DataFrame(\n",
    "        data=([None if x is None else x.toPython() for x in row] for row in results))"
   ]
  },
  {
   "cell_type": "code",
   "execution_count": 111,
   "metadata": {},
   "outputs": [
    {
     "name": "stdout",
     "output_type": "stream",
     "text": [
      "<rdflib.plugins.sparql.processor.SPARQLResult object at 0x7fec074e2340>\n",
      "None\n",
      "None\n",
      "[a rdfg:Graph;rdflib:storage [a rdflib:Store;rdfs:label 'Memory']].\n"
     ]
    }
   ],
   "source": [
    "print(sum_graph)\n",
    "print(sum_graph.vars)\n",
    "print(sum_graph.bindings)\n",
    "print(sum_graph.graph)"
   ]
  },
  {
   "cell_type": "code",
   "execution_count": 77,
   "metadata": {},
   "outputs": [
    {
     "name": "stdout",
     "output_type": "stream",
     "text": [
      "Empty DataFrame\n",
      "Columns: []\n",
      "Index: []\n"
     ]
    }
   ],
   "source": [
    "df = sparql_results_to_df(sum_graph)\n",
    "print(df)"
   ]
  }
 ],
 "metadata": {
  "interpreter": {
   "hash": "5eee251474350c24c2fba404e51079a8f187be0710486aeef4acc14b10186e6d"
  },
  "kernelspec": {
   "display_name": "Python 3.8.12 ('Msc_Thesis')",
   "language": "python",
   "name": "python3"
  },
  "language_info": {
   "codemirror_mode": {
    "name": "ipython",
    "version": 3
   },
   "file_extension": ".py",
   "mimetype": "text/x-python",
   "name": "python",
   "nbconvert_exporter": "python",
   "pygments_lexer": "ipython3",
   "version": "3.8.12"
  },
  "orig_nbformat": 4
 },
 "nbformat": 4,
 "nbformat_minor": 2
}
