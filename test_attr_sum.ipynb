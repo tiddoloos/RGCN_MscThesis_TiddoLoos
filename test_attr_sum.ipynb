{
 "cells": [
  {
   "cell_type": "code",
   "execution_count": 273,
   "metadata": {},
   "outputs": [],
   "source": [
    "from rdflib.graph import Graph\n",
    "from rdflib.plugins.sparql import prepareQuery\n",
    "from pandas import DataFrame\n",
    "from rdflib.plugins.sparql.processor import SPARQLResult\n",
    "import yaml\n",
    "#graphDB"
   ]
  },
  {
   "cell_type": "code",
   "execution_count": 274,
   "metadata": {},
   "outputs": [],
   "source": [
    "input_format = 'n3'\n",
    "input_names = {'AIFB': 'aifb_fixed_complete'}\n",
    "output_names = {'AIFB': 'aifb_attr_sum'}\n",
    "\n",
    "def make_rdf_graph(input_data):\n",
    "    g = Graph()\n",
    "    data = open(input_data, 'rb')\n",
    "    g.parse(data, format = input_format)\n",
    "    return g\n",
    "\n",
    "def apply_query(graph, key):\n",
    "    with open('helpers/SPARQL/attribute.yml') as file:\n",
    "        queries = yaml.load(file, Loader=yaml.FullLoader)\n",
    "    query = prepareQuery(queries[key])\n",
    "    result = graph.query(query)\n",
    "    return result\n",
    "\n",
    "def main_attr_sum(name):\n",
    "    filepath = f'../data/AIFB/{input_names[name]}.{input_format}'\n",
    "    graph = make_rdf_graph(filepath)\n",
    "    sum_graph = apply_query(graph, 'summary')\n",
    "    return sum_graph"
   ]
  },
  {
   "cell_type": "code",
   "execution_count": 275,
   "metadata": {},
   "outputs": [],
   "source": [
    "sum_graph = main_attr_sum('AIFB')"
   ]
  },
  {
   "cell_type": "code",
   "execution_count": 276,
   "metadata": {},
   "outputs": [
    {
     "name": "stdout",
     "output_type": "stream",
     "text": [
      "<rdflib.plugins.sparql.processor.SPARQLResult object at 0x7fec06fe92b0>\n",
      "[rdflib.term.Variable('hs'), rdflib.term.Variable('p'), rdflib.term.Variable('ho')]\n",
      "None\n"
     ]
    }
   ],
   "source": [
    "print(sum_graph)\n",
    "print(sum_graph.vars)\n",
    "# print(sum_graph.bindings)\n",
    "print(sum_graph.graph)"
   ]
  },
  {
   "cell_type": "code",
   "execution_count": 278,
   "metadata": {},
   "outputs": [],
   "source": [
    "for triple in sum_graph:\n",
    "    print(triple)"
   ]
  },
  {
   "cell_type": "code",
   "execution_count": 279,
   "metadata": {},
   "outputs": [
    {
     "ename": "TypeError",
     "evalue": "'NoneType' object is not iterable",
     "output_type": "error",
     "traceback": [
      "\u001b[0;31m---------------------------------------------------------------------------\u001b[0m",
      "\u001b[0;31mTypeError\u001b[0m                                 Traceback (most recent call last)",
      "\u001b[1;32m/Users/tiddo/Documents/Msc Artificial Intelligence/Thesis_RGCN/RGCN_MscThesis_TiddoLoos/test_attr_sum.ipynb Cell 6'\u001b[0m in \u001b[0;36m<cell line: 1>\u001b[0;34m()\u001b[0m\n\u001b[0;32m----> <a href='vscode-notebook-cell:/Users/tiddo/Documents/Msc%20Artificial%20Intelligence/Thesis_RGCN/RGCN_MscThesis_TiddoLoos/test_attr_sum.ipynb#ch0000012?line=0'>1</a>\u001b[0m \u001b[39mfor\u001b[39;00m s, p, o \u001b[39min\u001b[39;00m sum_graph\u001b[39m.\u001b[39mgraph:\n\u001b[1;32m      <a href='vscode-notebook-cell:/Users/tiddo/Documents/Msc%20Artificial%20Intelligence/Thesis_RGCN/RGCN_MscThesis_TiddoLoos/test_attr_sum.ipynb#ch0000012?line=1'>2</a>\u001b[0m     \u001b[39mprint\u001b[39m(s, p, o)\n",
      "\u001b[0;31mTypeError\u001b[0m: 'NoneType' object is not iterable"
     ]
    }
   ],
   "source": [
    "for s, p, o in sum_graph.graph:\n",
    "    print(s, p, o)"
   ]
  },
  {
   "cell_type": "code",
   "execution_count": 218,
   "metadata": {},
   "outputs": [],
   "source": [
    "def sparql_results_to_df(results: SPARQLResult) -> DataFrame:\n",
    "      return DataFrame(data=([None if x is None else x.toPython() for x in row] for row in results), columns=[str(x) for x in results.vars])"
   ]
  },
  {
   "cell_type": "code",
   "execution_count": 219,
   "metadata": {},
   "outputs": [
    {
     "name": "stdout",
     "output_type": "stream",
     "text": [
      "Empty DataFrame\n",
      "Columns: [hs, p, ho]\n",
      "Index: []\n"
     ]
    }
   ],
   "source": [
    "df = sparql_results_to_df(sum_graph)\n",
    "print(df)"
   ]
  },
  {
   "cell_type": "code",
   "execution_count": null,
   "metadata": {},
   "outputs": [],
   "source": []
  }
 ],
 "metadata": {
  "interpreter": {
   "hash": "5eee251474350c24c2fba404e51079a8f187be0710486aeef4acc14b10186e6d"
  },
  "kernelspec": {
   "display_name": "Python 3.8.12 ('Msc_Thesis')",
   "language": "python",
   "name": "python3"
  },
  "language_info": {
   "codemirror_mode": {
    "name": "ipython",
    "version": 3
   },
   "file_extension": ".py",
   "mimetype": "text/x-python",
   "name": "python",
   "nbconvert_exporter": "python",
   "pygments_lexer": "ipython3",
   "version": "3.8.12"
  },
  "orig_nbformat": 4
 },
 "nbformat": 4,
 "nbformat_minor": 2
}
