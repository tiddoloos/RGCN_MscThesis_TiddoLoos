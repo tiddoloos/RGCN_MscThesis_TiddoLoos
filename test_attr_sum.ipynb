{
 "cells": [
  {
   "cell_type": "code",
   "execution_count": 251,
   "metadata": {},
   "outputs": [],
   "source": [
    "from rdflib.graph import Graph\n",
    "from rdflib.plugins.sparql import prepareQuery\n",
    "from pandas import DataFrame\n",
    "from rdflib.plugins.sparql.processor import SPARQLResult\n",
    "import yaml\n",
    "#graphDB"
   ]
  },
  {
   "cell_type": "code",
   "execution_count": 257,
   "metadata": {},
   "outputs": [],
   "source": [
    "input_format = 'n3'\n",
    "input_names = {'AIFB': 'aifb_fixed_complete'}\n",
    "output_names = {'AIFB': 'aifb_attr_sum'}\n",
    "\n",
    "def make_rdf_graph(input_data):\n",
    "    g = Graph()\n",
    "    data = open(input_data, 'rb')\n",
    "    g.parse(data, format = input_format)\n",
    "    return g\n",
    "\n",
    "def apply_query(graph, key):\n",
    "    with open('helpers/SPARQL/attribute.yml') as file:\n",
    "        queries = yaml.load(file, Loader=yaml.FullLoader)\n",
    "    query = prepareQuery(queries[key])\n",
    "    result = graph.query(query)\n",
    "    return result\n",
    "\n",
    "def main_attr_sum(name):\n",
    "    filepath = f'../data/AIFB/{input_names[name]}.{input_format}'\n",
    "    graph = make_rdf_graph(filepath)\n",
    "    sum_graph = apply_query(graph, 'mapping')\n",
    "    return sum_graph"
   ]
  },
  {
   "cell_type": "code",
   "execution_count": 259,
   "metadata": {},
   "outputs": [],
   "source": [
    "sum_graph = main_attr_sum('AIFB')"
   ]
  },
  {
   "cell_type": "code",
   "execution_count": 264,
   "metadata": {},
   "outputs": [
    {
     "name": "stdout",
     "output_type": "stream",
     "text": [
      "<rdflib.plugins.sparql.processor.SPARQLResult object at 0x7fec09fb74c0>\n",
      "None\n",
      "None\n",
      "[a rdfg:Graph;rdflib:storage [a rdflib:Store;rdfs:label 'Memory']].\n"
     ]
    }
   ],
   "source": [
    "print(sum_graph)\n",
    "print(sum_graph.vars)\n",
    "print(sum_graph.bindings)\n",
    "print(sum_graph.graph)"
   ]
  },
  {
   "cell_type": "code",
   "execution_count": 249,
   "metadata": {},
   "outputs": [],
   "source": [
    "for triple in sum_graph.graph:\n",
    "    print(triple)"
   ]
  },
  {
   "cell_type": "code",
   "execution_count": 272,
   "metadata": {},
   "outputs": [],
   "source": [
    "for s, p, o in sum_graph.graph:\n",
    "    print(s, p, o)"
   ]
  },
  {
   "cell_type": "code",
   "execution_count": 218,
   "metadata": {},
   "outputs": [],
   "source": [
    "def sparql_results_to_df(results: SPARQLResult) -> DataFrame:\n",
    "      return DataFrame(data=([None if x is None else x.toPython() for x in row] for row in results), columns=[str(x) for x in results.vars])"
   ]
  },
  {
   "cell_type": "code",
   "execution_count": 219,
   "metadata": {},
   "outputs": [
    {
     "name": "stdout",
     "output_type": "stream",
     "text": [
      "Empty DataFrame\n",
      "Columns: [hs, p, ho]\n",
      "Index: []\n"
     ]
    }
   ],
   "source": [
    "df = sparql_results_to_df(sum_graph)\n",
    "print(df)"
   ]
  },
  {
   "cell_type": "code",
   "execution_count": null,
   "metadata": {},
   "outputs": [],
   "source": []
  }
 ],
 "metadata": {
  "interpreter": {
   "hash": "5eee251474350c24c2fba404e51079a8f187be0710486aeef4acc14b10186e6d"
  },
  "kernelspec": {
   "display_name": "Python 3.8.12 ('Msc_Thesis')",
   "language": "python",
   "name": "python3"
  },
  "language_info": {
   "codemirror_mode": {
    "name": "ipython",
    "version": 3
   },
   "file_extension": ".py",
   "mimetype": "text/x-python",
   "name": "python",
   "nbconvert_exporter": "python",
   "pygments_lexer": "ipython3",
   "version": "3.8.12"
  },
  "orig_nbformat": 4
 },
 "nbformat": 4,
 "nbformat_minor": 2
}
